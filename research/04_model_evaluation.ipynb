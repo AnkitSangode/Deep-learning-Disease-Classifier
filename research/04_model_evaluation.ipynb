{
 "cells": [
  {
   "cell_type": "code",
   "execution_count": 8,
   "id": "9df5a6f4",
   "metadata": {},
   "outputs": [
    {
     "data": {
      "text/plain": [
       "'D:\\\\Python\\\\Industry level\\\\Deep learning\\\\Deep-learning-Disease-Classifier'"
      ]
     },
     "execution_count": 8,
     "metadata": {},
     "output_type": "execute_result"
    }
   ],
   "source": [
    "import sys\n",
    "import os\n",
    "\n",
    "# Add the 'src' folder to sys.path\n",
    "sys.path.append(os.path.join(os.getcwd(), \"src\"))\n",
    "\n",
    "os.chdir('D:\\Python\\Industry level\\Deep learning\\Deep-learning-Disease-Classifier')\n",
    "%pwd"
   ]
  },
  {
   "cell_type": "code",
   "execution_count": 9,
   "id": "32e8eb67",
   "metadata": {},
   "outputs": [],
   "source": [
    "os.environ[\"MLFLOW_TRACKING_URI\"] = \"https://dagshub.com/AnkitSangode/Deep-learning-Disease-Classifier.mlflow\"\n",
    "os.environ[\"MLFLOW_TRACKING_USERNAME\"] = \"AnkitSangode\"\n",
    "os.environ[\"MLFLOW_TRACKING_PASSWORD\"] = \"391b761f20f4883ca8292a3e48b1b69ab2d166e7\""
   ]
  },
  {
   "cell_type": "code",
   "execution_count": 10,
   "id": "6db544a3",
   "metadata": {},
   "outputs": [],
   "source": [
    "import tensorflow as tf"
   ]
  },
  {
   "cell_type": "code",
   "execution_count": 11,
   "id": "a70f7e10",
   "metadata": {},
   "outputs": [],
   "source": [
    "model = tf.keras.models.load_model('artifacts/training/trained_model.keras')"
   ]
  },
  {
   "cell_type": "code",
   "execution_count": 12,
   "id": "8cd0838c",
   "metadata": {},
   "outputs": [],
   "source": [
    "from dataclasses import dataclass\n",
    "from pathlib import Path\n",
    "\n",
    "@dataclass(frozen=True)\n",
    "class EvaluationConfig:\n",
    "    path_of_model: Path\n",
    "    training_data: Path\n",
    "    all_params: dict\n",
    "    mlflow_uri: str\n",
    "    params_image_size: list\n",
    "    params_batch_size: int"
   ]
  },
  {
   "cell_type": "code",
   "execution_count": 13,
   "id": "22ef4da2",
   "metadata": {},
   "outputs": [],
   "source": [
    "from diseaseClassifier.constants import *\n",
    "from diseaseClassifier.utils.common import read_yaml,create_directories,save_json"
   ]
  },
  {
   "cell_type": "code",
   "execution_count": null,
   "id": "1dda11ff",
   "metadata": {},
   "outputs": [],
   "source": [
    "class ConfigurationManager:\n",
    "    def __init__(\n",
    "            self,\n",
    "            config_filepath = CONFIG_FILE_PATH,\n",
    "            params_filepath = PARAMS_FILE_PATH\n",
    "\n",
    "    ):\n",
    "        self.config = read_yaml(config_filepath)\n",
    "        self.params = read_yaml(params_filepath)\n",
    "        create_directories([self.config.artifacts_root])\n",
    "\n",
    "    \n",
    "    def get_evaluation_config(self) -> EvaluationConfig:\n",
    "        eval_config = EvaluationConfig(\n",
    "            path_of_model= \"artifacts/training/model.keras\",\n",
    "            training_data= \"artifacts/data_ingestion/kidney-ct-scan-image\",\n",
    "            mlflow_uri= \"https://dagshub.com/AnkitSangode/Deep-learning-Disease-Classifier.mlflow\",\n",
    "            all_params= self.params,\n",
    "            params_image_size= self.params.IMAGE_SIZE,\n",
    "            params_batch_size= self.params.BATCH_SIZE\n",
    "        )\n",
    "\n",
    "        return eval_config"
   ]
  }
 ],
 "metadata": {
  "kernelspec": {
   "display_name": "kidney",
   "language": "python",
   "name": "python3"
  },
  "language_info": {
   "codemirror_mode": {
    "name": "ipython",
    "version": 3
   },
   "file_extension": ".py",
   "mimetype": "text/x-python",
   "name": "python",
   "nbconvert_exporter": "python",
   "pygments_lexer": "ipython3",
   "version": "3.11.0"
  }
 },
 "nbformat": 4,
 "nbformat_minor": 5
}
