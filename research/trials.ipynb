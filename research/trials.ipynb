{
 "cells": [
  {
   "cell_type": "code",
   "execution_count": 1,
   "id": "7f0ffc79",
   "metadata": {},
   "outputs": [],
   "source": [
    "import gdown"
   ]
  },
  {
   "cell_type": "code",
   "execution_count": null,
   "id": "7cae6c7a",
   "metadata": {},
   "outputs": [],
   "source": [
    "url = ''\n"
   ]
  },
  {
   "cell_type": "code",
   "execution_count": null,
   "id": "1a4d3c15",
   "metadata": {},
   "outputs": [],
   "source": [
    "file_id = url.split(\"/\")[-2]"
   ]
  },
  {
   "cell_type": "code",
   "execution_count": null,
   "id": "aeda6a42",
   "metadata": {},
   "outputs": [],
   "source": [
    "prefixUrl = 'https://drive.google.com/uc?/export=download&id='\n",
    "gdown.download(prefixUrl+file_id,'Chest-CT-scan-data.zip')"
   ]
  }
 ],
 "metadata": {
  "kernelspec": {
   "display_name": "kidney",
   "language": "python",
   "name": "python3"
  },
  "language_info": {
   "codemirror_mode": {
    "name": "ipython",
    "version": 3
   },
   "file_extension": ".py",
   "mimetype": "text/x-python",
   "name": "python",
   "nbconvert_exporter": "python",
   "pygments_lexer": "ipython3",
   "version": "3.11.0"
  }
 },
 "nbformat": 4,
 "nbformat_minor": 5
}
